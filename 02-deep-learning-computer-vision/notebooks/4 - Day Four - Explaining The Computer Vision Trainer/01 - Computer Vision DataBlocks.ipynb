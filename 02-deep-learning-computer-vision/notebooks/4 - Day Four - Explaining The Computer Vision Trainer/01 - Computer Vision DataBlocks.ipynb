{
 "cells": [
  {
   "cell_type": "markdown",
   "id": "b14f8611-8048-4431-93cb-8a2572e54964",
   "metadata": {},
   "source": [
    "## What does a DataBlock do?"
   ]
  },
  {
   "cell_type": "code",
   "execution_count": null,
   "id": "bc0837ec-358e-45ee-90b2-3372e37e350e",
   "metadata": {},
   "outputs": [],
   "source": []
  }
 ],
 "metadata": {
  "kernelspec": {
   "display_name": "Python 3 (ipykernel)",
   "language": "python",
   "name": "python3"
  },
  "language_info": {
   "codemirror_mode": {
    "name": "ipython",
    "version": 3
   },
   "file_extension": ".py",
   "mimetype": "text/x-python",
   "name": "python",
   "nbconvert_exporter": "python",
   "pygments_lexer": "ipython3",
   "version": "3.8.10"
  }
 },
 "nbformat": 4,
 "nbformat_minor": 5
}
