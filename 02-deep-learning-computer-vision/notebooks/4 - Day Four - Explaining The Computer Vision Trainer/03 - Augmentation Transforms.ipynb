{
 "cells": [
  {
   "cell_type": "markdown",
   "id": "cbef41af-457b-47a7-8342-a56b521eb956",
   "metadata": {},
   "source": [
    "## What Are Augmentation Transforms?"
   ]
  },
  {
   "cell_type": "code",
   "execution_count": null,
   "id": "4dc0fb4a-0f3a-4631-b81f-f9ee501dde1b",
   "metadata": {},
   "outputs": [],
   "source": []
  }
 ],
 "metadata": {
  "kernelspec": {
   "display_name": "Python 3 (ipykernel)",
   "language": "python",
   "name": "python3"
  },
  "language_info": {
   "codemirror_mode": {
    "name": "ipython",
    "version": 3
   },
   "file_extension": ".py",
   "mimetype": "text/x-python",
   "name": "python",
   "nbconvert_exporter": "python",
   "pygments_lexer": "ipython3",
   "version": "3.8.10"
  }
 },
 "nbformat": 4,
 "nbformat_minor": 5
}
