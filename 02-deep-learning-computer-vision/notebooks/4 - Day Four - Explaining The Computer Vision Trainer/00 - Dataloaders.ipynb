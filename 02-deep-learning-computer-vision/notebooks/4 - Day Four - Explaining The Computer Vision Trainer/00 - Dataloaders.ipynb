{
 "cells": [
  {
   "cell_type": "markdown",
   "id": "fc56a613-7eec-47ae-9751-6c3943f59387",
   "metadata": {},
   "source": [
    "## What is a DataBlock and DataLoader?"
   ]
  },
  {
   "cell_type": "code",
   "execution_count": null,
   "id": "13441411-a6ca-4764-93bf-5c5a1e112dd5",
   "metadata": {},
   "outputs": [],
   "source": []
  }
 ],
 "metadata": {
  "kernelspec": {
   "display_name": "Python 3 (ipykernel)",
   "language": "python",
   "name": "python3"
  },
  "language_info": {
   "codemirror_mode": {
    "name": "ipython",
    "version": 3
   },
   "file_extension": ".py",
   "mimetype": "text/x-python",
   "name": "python",
   "nbconvert_exporter": "python",
   "pygments_lexer": "ipython3",
   "version": "3.8.10"
  }
 },
 "nbformat": 4,
 "nbformat_minor": 5
}
