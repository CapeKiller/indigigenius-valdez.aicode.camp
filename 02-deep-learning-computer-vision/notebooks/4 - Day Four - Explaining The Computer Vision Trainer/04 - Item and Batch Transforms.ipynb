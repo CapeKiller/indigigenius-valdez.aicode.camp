{
 "cells": [
  {
   "cell_type": "markdown",
   "id": "1b4552b2-e18f-4244-820a-db32eb7d0009",
   "metadata": {},
   "source": [
    "## How Do I Use Augmentation Transforms On Items And Batches?"
   ]
  },
  {
   "cell_type": "code",
   "execution_count": null,
   "id": "234fd5f0-49a1-48bc-ab05-57c27cc20128",
   "metadata": {},
   "outputs": [],
   "source": []
  }
 ],
 "metadata": {
  "kernelspec": {
   "display_name": "Python 3 (ipykernel)",
   "language": "python",
   "name": "python3"
  },
  "language_info": {
   "codemirror_mode": {
    "name": "ipython",
    "version": 3
   },
   "file_extension": ".py",
   "mimetype": "text/x-python",
   "name": "python",
   "nbconvert_exporter": "python",
   "pygments_lexer": "ipython3",
   "version": "3.8.10"
  }
 },
 "nbformat": 4,
 "nbformat_minor": 5
}
