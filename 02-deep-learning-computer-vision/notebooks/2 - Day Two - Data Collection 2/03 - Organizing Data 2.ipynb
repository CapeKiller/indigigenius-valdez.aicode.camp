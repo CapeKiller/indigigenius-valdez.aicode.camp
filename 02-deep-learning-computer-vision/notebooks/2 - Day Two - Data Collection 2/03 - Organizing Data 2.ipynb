{
 "cells": [
  {
   "cell_type": "markdown",
   "id": "388a11ee-c54c-4133-93ea-baadaac08931",
   "metadata": {},
   "source": [
    "# Continuing to Organize our Data"
   ]
  },
  {
   "cell_type": "markdown",
   "id": "7a6475ca-e5e7-4c9f-842c-5ac94472ac90",
   "metadata": {},
   "source": [
    "1. Organize your burst mode images on the phone, create albums/folders. Select the one file that represents the burst mode (~100 pictures) and put it in the correct album/folder.\n",
    "    * This allows us to just transfer folders when we get to our computers.\n",
    "1. If you aren’t able to organize data on the phone, do that work on the computer.\n",
    "1. Make sure your folders are named correctly. **If some of the folders existed from the day before, add your new images to them**\n",
    "   * If you are contributing to a group/class set of data of data, use the agreed upon labels.\n",
    "   * There should be no spaces in the folder names. For example: *Prairie Turnip* should be changed to *Prairie_Turnip*.\n",
    "1. Verify that all pictures are in the correct folders on your computer.\n",
    "1. Create a folder in the Pictures Folder, and let’s decide on a name. For example: “Museum_Data” or \"Plant_Data\".\n",
    "    * The `00-computer-vision-trainer` notebook expects the top level folder to be called \"TRAINING_DATA\" if you want to make your life a little easier.\n",
    "    * It would be a good practice to have something like “Content_Place_Data”.\n",
    "1. Transfer you organized folders to that folder that you just created.\n",
    "\n",
    "**We are adding to the data that we previously collected, be deliberate about where you are placing it. The next step will be to lock that data in place until we can leverage some code to help us clean it up a little better**"
   ]
  },
  {
   "cell_type": "markdown",
   "id": "1ea2a977-6104-4124-be6e-573b75ff3a9d",
   "metadata": {},
   "source": [
    "## Let's reflect on our data collection and organization practices again. \n",
    "## We want you to feel comfortable being able to do this on your own in the future if that is something you're interested in.\n",
    "\n",
    "**What went well?**\n",
    "\n",
    "**What didn't go well?**\n",
    "\n",
    "**What would you change or improve?**"
   ]
  }
 ],
 "metadata": {
  "kernelspec": {
   "display_name": "Python 3 (ipykernel)",
   "language": "python",
   "name": "python3"
  },
  "language_info": {
   "codemirror_mode": {
    "name": "ipython",
    "version": 3
   },
   "file_extension": ".py",
   "mimetype": "text/x-python",
   "name": "python",
   "nbconvert_exporter": "python",
   "pygments_lexer": "ipython3",
   "version": "3.8.10"
  }
 },
 "nbformat": 4,
 "nbformat_minor": 5
}
