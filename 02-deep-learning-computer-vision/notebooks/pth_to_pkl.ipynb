{
 "cells": [
  {
   "cell_type": "code",
   "execution_count": 7,
   "id": "f82e44e0-4528-4b8a-b369-97e2ebeaf34e",
   "metadata": {},
   "outputs": [],
   "source": [
    "import torch\n",
    "from fastai.vision.all import *\n",
    "from fastai.learner import load_learner\n",
    "from fastai.data.core import DataLoaders"
   ]
  },
  {
   "cell_type": "code",
   "execution_count": 9,
   "id": "806c77f2-f666-48c2-8cf0-e86c0240cf99",
   "metadata": {},
   "outputs": [
    {
     "data": {
      "application/vnd.jupyter.widget-view+json": {
       "model_id": "1beaae0cf3e248c5bc715d597eb509a5",
       "version_major": 2,
       "version_minor": 0
      },
      "text/plain": [
       "pytorch_model.bin:   0%|          | 0.00/157M [00:00<?, ?B/s]"
      ]
     },
     "metadata": {},
     "output_type": "display_data"
    }
   ],
   "source": [
    "path_to_data = '/workspace/data/TRAINING_DATA'\n",
    "path_to_pth_model = '/workspace/models/model_epoch8' # leave off the .pth here\n",
    "path_to_models = '/workspace/models/'\n",
    "dls = ImageDataLoaders.from_folder(path_to_data, train='.', valid_pct=0.2) # be sure to use the same validation split that you did for previous training\n",
    "\n",
    "learn = vision_learner(dls, 'levit_384.fb_dist_in1k') # be sure to use the same pretrained model here that you did for previous training\n",
    "learn.load(path_to_pth_model)  # Load the model from the .pth file\n",
    "learn.export(path_to_models+'model_epoch8.pkl')"
   ]
  },
  {
   "cell_type": "code",
   "execution_count": null,
   "id": "f747e270-ea3c-4dfd-b61a-5dbaf81986e1",
   "metadata": {},
   "outputs": [],
   "source": []
  }
 ],
 "metadata": {
  "kernelspec": {
   "display_name": "Python 3 (ipykernel)",
   "language": "python",
   "name": "python3"
  },
  "language_info": {
   "codemirror_mode": {
    "name": "ipython",
    "version": 3
   },
   "file_extension": ".py",
   "mimetype": "text/x-python",
   "name": "python",
   "nbconvert_exporter": "python",
   "pygments_lexer": "ipython3",
   "version": "3.8.10"
  }
 },
 "nbformat": 4,
 "nbformat_minor": 5
}
