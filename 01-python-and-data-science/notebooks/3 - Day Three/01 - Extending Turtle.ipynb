{
 "cells": [
  {
   "cell_type": "code",
   "execution_count": null,
   "id": "985278f7-ec60-4e6d-98cb-f8c94c2eb0f8",
   "metadata": {},
   "outputs": [],
   "source": [
    "import turtle\n",
    "\n",
    "# now let's take a look at the parameters used for the turtle.Turtle class\n",
    "turtle.Turtle?"
   ]
  },
  {
   "cell_type": "markdown",
   "id": "3b73d301-08c9-44f5-92be-cc519030658e",
   "metadata": {},
   "source": [
    "We can see that the parameters to create a turtle as we have been using it are:\n",
    "1. shape='classic'\n",
    "2. undobuffersize=1000\n",
    "3. visible=True\n",
    "\n",
    "To extend the class, we will also need to pass in `self` as the first parameter.\n",
    "\n",
    "The code below sets the the *dunder* or double underscore `__init__` function to use these parameters, as well as the `self` parameter first.\n",
    "\n",
    "**The Challenge:**\n",
    "The original turtle class we have been working with has a `circle(radius)` method, but not a `square` method. Write the code to create a `square(center_x, center_y, side_length)` method."
   ]
  },
  {
   "cell_type": "code",
   "execution_count": null,
   "id": "e0fb5736-2bb4-4ea2-b047-5365f496af51",
   "metadata": {},
   "outputs": [],
   "source": [
    "class Turtle_Extended(turtle.Turtle):\n",
    "    def __init__(self, shape='classic', undobuffersize=1000, visible=True):\n",
    "        super().__init__(shape, undobuffersize, visible)\n",
    "\n",
    "    # put your method here. ensure that the tabs are correct to be included within the Turtle_Extended class block\n",
    "    \n",
    "window = turtle.Screen()\n",
    "window.setup(width=800, height=800)\n",
    "\n",
    "t = Turtle_Extended()\n",
    "\n",
    "t.square(-75, 0, 50)\n",
    "t.square(-75, 75, 50)\n",
    "t.square(-75, -75, 50)\n",
    "t.square(0, 0, 50)\n",
    "t.square(0, 75, 50)\n",
    "t.square(0, -75, 50)\n",
    "t.square(75, 0, 50)\n",
    "t.square(75, 75, 50)\n",
    "t.square(75, -75, 50)\n",
    "t.square(0, 0, 250)\n",
    "\n",
    "turtle.mainloop()"
   ]
  },
  {
   "cell_type": "code",
   "execution_count": null,
   "id": "9d996c94-a3c0-44ae-b0a8-c18e08adbb8e",
   "metadata": {},
   "outputs": [],
   "source": []
  }
 ],
 "metadata": {
  "kernelspec": {
   "display_name": "Python 3 (ipykernel)",
   "language": "python",
   "name": "python3"
  },
  "language_info": {
   "codemirror_mode": {
    "name": "ipython",
    "version": 3
   },
   "file_extension": ".py",
   "mimetype": "text/x-python",
   "name": "python",
   "nbconvert_exporter": "python",
   "pygments_lexer": "ipython3",
   "version": "3.11.7"
  }
 },
 "nbformat": 4,
 "nbformat_minor": 5
}
